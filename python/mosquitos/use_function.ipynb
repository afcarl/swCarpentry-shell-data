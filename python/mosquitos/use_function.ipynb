{
 "cells": [
  {
   "cell_type": "code",
   "execution_count": 1,
   "metadata": {
    "collapsed": false
   },
   "outputs": [
    {
     "name": "stdout",
     "output_type": "stream",
     "text": [
      "analyze_mosquitos.py\r\n"
     ]
    }
   ],
   "source": [
    "!ls *py"
   ]
  },
  {
   "cell_type": "code",
   "execution_count": 2,
   "metadata": {
    "collapsed": true
   },
   "outputs": [],
   "source": [
    "%matplotlib inline"
   ]
  },
  {
   "cell_type": "code",
   "execution_count": 3,
   "metadata": {
    "collapsed": true
   },
   "outputs": [],
   "source": [
    "import analyze_mosquitos"
   ]
  },
  {
   "cell_type": "code",
   "execution_count": 4,
   "metadata": {
    "collapsed": false
   },
   "outputs": [
    {
     "name": "stdout",
     "output_type": "stream",
     "text": [
      "Loading A2_mosquito_data.csv\n",
      "Plotting A2_mosquito_data.csv\n",
      "Saving A2_mosquito_data_mosquitos_vs_tempC.png\n"
     ]
    },
    {
     "data": {
      "image/png": "[encoded data removed]",
      "text/plain": [
       "<matplotlib.figure.Figure at 0x7fa22da6c4e0>"
      ]
     },
     "metadata": {},
     "output_type": "display_data"
    }
   ],
   "source": [
    "data = analyze_mosquitos.create_mosquitos_vs_tempC_plot(\"A2_mosquito_data.csv\")"
   ]
  },
  {
   "cell_type": "code",
   "execution_count": 5,
   "metadata": {
    "collapsed": false
   },
   "outputs": [
    {
     "name": "stdout",
     "output_type": "stream",
     "text": [
      "-rw-rw-r-- 1 zonca zonca 6806 Oct 28 14:17 A1_mosquito_data_mosquitos_vs_tempC.png\r\n",
      "-rw-rw-r-- 1 zonca zonca 8065 Oct 28 15:02 A2_mosquito_data_mosquitos_vs_tempC.png\r\n",
      "-rw-rw-r-- 1 zonca zonca 6540 Oct 28 14:17 B1_mosquito_data_mosquitos_vs_tempC.png\r\n"
     ]
    }
   ],
   "source": [
    "!ls -l *.png"
   ]
  },
  {
   "cell_type": "code",
   "execution_count": 6,
   "metadata": {
    "collapsed": true
   },
   "outputs": [],
   "source": [
    "analyze_mosquitos.create_mosquitos_vs_tempC_plot?"
   ]
  },
  {
   "cell_type": "code",
   "execution_count": 5,
   "metadata": {
    "collapsed": false
   },
   "outputs": [
    {
     "name": "stdout",
     "output_type": "stream",
     "text": [
      "Fetching package metadata: ....\n",
      "Solving package specifications: .....................................\n",
      "# All requested packages already installed.\n",
      "# packages in environment at /home/zonca/anaconda:\n",
      "#\n",
      "seaborn                   0.6.0               np110py34_0  \n"
     ]
    }
   ],
   "source": [
    "!conda install -y seaborn"
   ]
  },
  {
   "cell_type": "code",
   "execution_count": null,
   "metadata": {
    "collapsed": true
   },
   "outputs": [],
   "source": []
  }
 ],
 "metadata": {
  "kernelspec": {
   "display_name": "Python 3",
   "language": "python",
   "name": "python3"
  },
  "language_info": {
   "codemirror_mode": {
    "name": "ipython",
    "version": 3
   },
   "file_extension": ".py",
   "mimetype": "text/x-python",
   "name": "python",
   "nbconvert_exporter": "python",
   "pygments_lexer": "ipython3",
   "version": "3.4.3"
  }
 },
 "nbformat": 4,
 "nbformat_minor": 0
}
